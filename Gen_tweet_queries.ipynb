{
 "cells": [
  {
   "cell_type": "code",
   "execution_count": 1,
   "metadata": {},
   "outputs": [],
   "source": [
    "months_31 = [1,3,5,7,8,10,12]\n",
    "for i in range(12):\n",
    "    f = open(\"command_{}.txt\".format(i),\"w+\")\n",
    "    if( i+1 not in months_31):\n",
    "        for j in range(30):\n",
    "            if((i+1) == 2):\n",
    "                if((j+1)==28):\n",
    "                    f.write(\"GetOldTweets3 --querysearch 'bitcoin' --since 2017-02-28 --until 2017-03-01 --maxtweets -5000 --output 'clsearch0228.csv'\\n\")\n",
    "                    break\n",
    "            if(j == 29):\n",
    "                f.write(\"GetOldTweets3 --querysearch 'bitcoin' --since 2017-{}-{} --until 2017-{}-1 --maxtweets -5000 --output 'clsearch{}{}.csv'\\n\".format(i+1,j+1,i+2,i+1,j+1))        \n",
    "            else:\n",
    "                f.write(\"GetOldTweets3 --querysearch 'bitcoin' --since 2017-{}-{} --until 2017-{}-{} --maxtweets -5000 --output 'clsearch{}{}.csv'\\n\".format(i+1,j+1,i+1,j+2,i+1,j+1))\n",
    "    else:\n",
    "        for j in range(31):\n",
    "            if(j==30):\n",
    "                f.write(\"GetOldTweets3 --querysearch 'bitcoin' --since 2017-{}-{} --until 2017-{}-1 --maxtweets -5000 --output 'clsearch{}{}.csv'\\n\".format(i+1,j+1,i+2,i+1,j+1))\n",
    "            else:\n",
    "                f.write(\"GetOldTweets3 --querysearch 'bitcoin' --since 2017-{}-{} --until 2017-{}-{} --maxtweets -5000 --output 'clsearch{}{}.csv'\\n\".format(i+1,j+1,i+1,j+2,i+1,j+1))\n",
    "\n",
    "                "
   ]
  },
  {
   "cell_type": "code",
   "execution_count": 2,
   "metadata": {},
   "outputs": [],
   "source": [
    "f2 = open(\"command_11.txt\",\"w+\")\n",
    "i=11\n",
    "for j in range(31):\n",
    "    if(j==30):\n",
    "        f2.write(\"GetOldTweets3 --querysearch 'bitcoin' --since 2017-{}-{} --until 2018-1-1 --maxtweets -5000 --output 'clsearch{}{}.csv'\\n\".format(i+1,j+1,i+1,j+1))\n",
    "    else:\n",
    "        f2.write(\"GetOldTweets3 --querysearch 'bitcoin' --since 2017-{}-{} --until 2017-{}-{} --maxtweets -5000 --output 'clsearch{}{}.csv'\\n\".format(i+1,j+1,i+1,j+2,i+1,j+1))\n",
    "\n",
    "                    \n",
    "    "
   ]
  }
 ],
 "metadata": {
  "kernelspec": {
   "display_name": "Python 3",
   "language": "python",
   "name": "python3"
  },
  "language_info": {
   "codemirror_mode": {
    "name": "ipython",
    "version": 3
   },
   "file_extension": ".py",
   "mimetype": "text/x-python",
   "name": "python",
   "nbconvert_exporter": "python",
   "pygments_lexer": "ipython3",
   "version": "3.6.8"
  }
 },
 "nbformat": 4,
 "nbformat_minor": 2
}
