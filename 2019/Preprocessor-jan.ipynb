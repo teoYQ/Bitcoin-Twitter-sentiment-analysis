{
 "cells": [
  {
   "cell_type": "code",
   "execution_count": 1,
   "metadata": {},
   "outputs": [],
   "source": [
    "import preprocessor as p\n",
    "import numpy as np\n",
    "from textblob import TextBlob\n",
    "from vaderSentiment.vaderSentiment import SentimentIntensityAnalyzer\n",
    "import pandas as pd\n",
    "import numpy as np\n",
    "import gensim\n",
    "import re\n",
    "from tqdm import tqdm\n",
    "from bs4 import BeautifulSoup\n"
   ]
  },
  {
   "cell_type": "code",
   "execution_count": 2,
   "metadata": {},
   "outputs": [],
   "source": [
    "tqdm.pandas()"
   ]
  },
  {
   "cell_type": "markdown",
   "metadata": {},
   "source": [
    "Read CSV\n",
    "\n",
    "Drop useless columns"
   ]
  },
  {
   "cell_type": "code",
   "execution_count": 3,
   "metadata": {},
   "outputs": [],
   "source": [
    "df =pd.read_csv(\"tweets/jan.csv\")\n",
    "df.head()\n",
    "data = df.drop([\"mentions\",\"to\",\"geo\",\"permalink\",\"hashtags\"],axis=1)"
   ]
  },
  {
   "cell_type": "markdown",
   "metadata": {},
   "source": [
    "Clean function using a combination of re and preprocessor"
   ]
  },
  {
   "cell_type": "code",
   "execution_count": 4,
   "metadata": {},
   "outputs": [
    {
     "name": "stderr",
     "output_type": "stream",
     "text": [
      "100%|██████████| 579512/579512 [00:11<00:00, 51358.92it/s]\n"
     ]
    },
    {
     "data": {
      "text/html": [
       "<div>\n",
       "<style scoped>\n",
       "    .dataframe tbody tr th:only-of-type {\n",
       "        vertical-align: middle;\n",
       "    }\n",
       "\n",
       "    .dataframe tbody tr th {\n",
       "        vertical-align: top;\n",
       "    }\n",
       "\n",
       "    .dataframe thead th {\n",
       "        text-align: right;\n",
       "    }\n",
       "</style>\n",
       "<table border=\"1\" class=\"dataframe\">\n",
       "  <thead>\n",
       "    <tr style=\"text-align: right;\">\n",
       "      <th></th>\n",
       "      <th>date</th>\n",
       "      <th>username</th>\n",
       "      <th>replies</th>\n",
       "      <th>retweets</th>\n",
       "      <th>favorites</th>\n",
       "      <th>text</th>\n",
       "      <th>id</th>\n",
       "    </tr>\n",
       "  </thead>\n",
       "  <tbody>\n",
       "    <tr>\n",
       "      <th>0</th>\n",
       "      <td>2019-01-10 23:59:58</td>\n",
       "      <td>CryptoPressNews</td>\n",
       "      <td>0</td>\n",
       "      <td>0</td>\n",
       "      <td>1</td>\n",
       "      <td>BTC    bitcoins Current Price    h      h     ...</td>\n",
       "      <td>1083513813746442240</td>\n",
       "    </tr>\n",
       "    <tr>\n",
       "      <th>1</th>\n",
       "      <td>2019-01-10 23:59:57</td>\n",
       "      <td>sajmathieu</td>\n",
       "      <td>1</td>\n",
       "      <td>0</td>\n",
       "      <td>1</td>\n",
       "      <td>Funny that you say BIP had broad support yet m...</td>\n",
       "      <td>1083513809136951297</td>\n",
       "    </tr>\n",
       "    <tr>\n",
       "      <th>2</th>\n",
       "      <td>2019-01-10 23:59:57</td>\n",
       "      <td>Libreinfo</td>\n",
       "      <td>0</td>\n",
       "      <td>0</td>\n",
       "      <td>0</td>\n",
       "      <td>Price Watch Currency Sinks as New Year Hope S...</td>\n",
       "      <td>1083513807383584769</td>\n",
       "    </tr>\n",
       "    <tr>\n",
       "      <th>3</th>\n",
       "      <td>2019-01-10 23:59:54</td>\n",
       "      <td>CoinSpotterEU</td>\n",
       "      <td>0</td>\n",
       "      <td>0</td>\n",
       "      <td>0</td>\n",
       "      <td>Crypto Visionary Nick Szabo Says Banks May Scr...</td>\n",
       "      <td>1083513795027308544</td>\n",
       "    </tr>\n",
       "    <tr>\n",
       "      <th>4</th>\n",
       "      <td>2019-01-10 23:59:53</td>\n",
       "      <td>profits_bitcoin</td>\n",
       "      <td>0</td>\n",
       "      <td>1</td>\n",
       "      <td>1</td>\n",
       "      <td>BTC Bitcoin Magazine Research Firm Charts Unsp...</td>\n",
       "      <td>1083513790648512513</td>\n",
       "    </tr>\n",
       "  </tbody>\n",
       "</table>\n",
       "</div>"
      ],
      "text/plain": [
       "                  date         username replies retweets favorites  \\\n",
       "0  2019-01-10 23:59:58  CryptoPressNews       0        0         1   \n",
       "1  2019-01-10 23:59:57       sajmathieu       1        0         1   \n",
       "2  2019-01-10 23:59:57        Libreinfo       0        0         0   \n",
       "3  2019-01-10 23:59:54    CoinSpotterEU       0        0         0   \n",
       "4  2019-01-10 23:59:53  profits_bitcoin       0        1         1   \n",
       "\n",
       "                                                text                   id  \n",
       "0  BTC    bitcoins Current Price    h      h     ...  1083513813746442240  \n",
       "1  Funny that you say BIP had broad support yet m...  1083513809136951297  \n",
       "2   Price Watch Currency Sinks as New Year Hope S...  1083513807383584769  \n",
       "3  Crypto Visionary Nick Szabo Says Banks May Scr...  1083513795027308544  \n",
       "4  BTC Bitcoin Magazine Research Firm Charts Unsp...  1083513790648512513  "
      ]
     },
     "execution_count": 4,
     "metadata": {},
     "output_type": "execute_result"
    }
   ],
   "source": [
    "def cleaning(text):\n",
    "    cleantext = p.clean(text)\n",
    "    cleantext = re.sub('[^a-zA-Z ]','',cleantext)\n",
    "    return cleantext\n",
    "def clean(data):\n",
    "    #cleanr = re.compile(\"<.*?>\")\n",
    "    cleanr= re.sub(r\"http\\S+\", \"\", data)\n",
    "    \n",
    "    cleanr= re.sub(r\"pic.\\S+\", \"\", cleanr)\n",
    "    #cleanr= re.sub(cleanr, \"\", data)\n",
    "    #cleantext = re.sub(cleanr,'',data)\n",
    "    cleantext = re.sub('[^a-zA-Z# ]','',cleanr)\n",
    "    clean_hash = re.sub(r\"#\\S+\",\"\",cleantext)\n",
    "    \n",
    "    return clean_hash\n",
    "data[\"text\"] = df.progress_apply(lambda x:clean(x[\"text\"]),axis=1)\n",
    "\n",
    "data.head()"
   ]
  },
  {
   "cell_type": "markdown",
   "metadata": {},
   "source": [
    "tokenize and stemm and then join text"
   ]
  },
  {
   "cell_type": "code",
   "execution_count": 5,
   "metadata": {},
   "outputs": [
    {
     "name": "stdout",
     "output_type": "stream",
     "text": [
      "swiss stock exchang bring crypto center global financi industri \n",
      "Swiss Stock Exchange Bringing Crypto to the Center of the Global Financial Industry        \n"
     ]
    }
   ],
   "source": [
    "from nltk.tokenize import sent_tokenize, word_tokenize\n",
    "from nltk.stem import PorterStemmer\n",
    "from nltk.stem import LancasterStemmer\n",
    "from nltk.corpus import stopwords\n",
    "porter = PorterStemmer()\n",
    "lancaster=LancasterStemmer()\n",
    "def stemSentence(sentence):\n",
    "    token_words=word_tokenize(sentence)\n",
    "    token_words\n",
    "    stem_sentence=[]\n",
    "    filtered_sentence = [w for w in token_words if not w in stopwords.words()]\n",
    "            \n",
    "    for word in filtered_sentence:\n",
    "        stem_sentence.append(porter.stem(word))\n",
    "        stem_sentence.append(\" \")\n",
    "    return \"\".join(stem_sentence)\n",
    "\n",
    "x=stemSentence(data[\"text\"][5])\n",
    "print(x)\n",
    "print(data[\"text\"][5])"
   ]
  },
  {
   "cell_type": "markdown",
   "metadata": {},
   "source": [
    "TextBlob functions"
   ]
  },
  {
   "cell_type": "code",
   "execution_count": 6,
   "metadata": {},
   "outputs": [],
   "source": [
    "data[\"subjectivity\"] = np.zeros((data.shape[0],1))\n",
    "data[\"blob_sent\"] = np.zeros((data.shape[0],1))\n",
    "def textblob_sent(text):\n",
    "    text = stemSentence(text)\n",
    "    analysis = TextBlob(str(text))\n",
    "    return analysis.sentiment[0]\n",
    "def textblob_sub(text):\n",
    "    text = stemSentence(text)\n",
    "    analysis = TextBlob(str(text))\n",
    "    return analysis.sentiment[1]\n",
    "    \n"
   ]
  },
  {
   "cell_type": "code",
   "execution_count": 7,
   "metadata": {},
   "outputs": [
    {
     "name": "stdout",
     "output_type": "stream",
     "text": [
      "-0.05\n",
      "-0.05\n"
     ]
    }
   ],
   "source": [
    "print(textblob_sent(df[\"text\"][5]))\n",
    "print(textblob_sent(stemSentence(df[\"text\"][5])))"
   ]
  },
  {
   "cell_type": "code",
   "execution_count": null,
   "metadata": {},
   "outputs": [],
   "source": []
  },
  {
   "cell_type": "code",
   "execution_count": 8,
   "metadata": {},
   "outputs": [
    {
     "name": "stderr",
     "output_type": "stream",
     "text": [
      "100%|██████████| 579512/579512 [12:20:29<00:00, 13.04it/s]  \n",
      "100%|██████████| 579512/579512 [12:12:03<00:00, 13.19it/s]  \n"
     ]
    }
   ],
   "source": [
    "data[\"blob_sent\"] = df.progress_apply(lambda x:textblob_sent(x[\"text\"]),axis=1)\n",
    "data[\"subjectivity\"] = df.progress_apply(lambda x:textblob_sub(x[\"text\"]),axis=1)\n"
   ]
  },
  {
   "cell_type": "markdown",
   "metadata": {},
   "source": [
    "Vader sentiment"
   ]
  },
  {
   "cell_type": "code",
   "execution_count": 9,
   "metadata": {},
   "outputs": [],
   "source": [
    "sid = SentimentIntensityAnalyzer()\n",
    "def vader(text):\n",
    "    score = sid.polarity_scores(text)\n",
    "    return score[\"compound\"]\n"
   ]
  },
  {
   "cell_type": "code",
   "execution_count": 10,
   "metadata": {},
   "outputs": [
    {
     "name": "stderr",
     "output_type": "stream",
     "text": [
      "100%|██████████| 579512/579512 [02:18<00:00, 4197.86it/s]\n"
     ]
    },
    {
     "data": {
      "text/html": [
       "<div>\n",
       "<style scoped>\n",
       "    .dataframe tbody tr th:only-of-type {\n",
       "        vertical-align: middle;\n",
       "    }\n",
       "\n",
       "    .dataframe tbody tr th {\n",
       "        vertical-align: top;\n",
       "    }\n",
       "\n",
       "    .dataframe thead th {\n",
       "        text-align: right;\n",
       "    }\n",
       "</style>\n",
       "<table border=\"1\" class=\"dataframe\">\n",
       "  <thead>\n",
       "    <tr style=\"text-align: right;\">\n",
       "      <th></th>\n",
       "      <th>date</th>\n",
       "      <th>username</th>\n",
       "      <th>replies</th>\n",
       "      <th>retweets</th>\n",
       "      <th>favorites</th>\n",
       "      <th>text</th>\n",
       "      <th>id</th>\n",
       "      <th>subjectivity</th>\n",
       "      <th>blob_sent</th>\n",
       "      <th>vader_sent</th>\n",
       "    </tr>\n",
       "  </thead>\n",
       "  <tbody>\n",
       "    <tr>\n",
       "      <th>0</th>\n",
       "      <td>2019-01-10 23:59:58</td>\n",
       "      <td>CryptoPressNews</td>\n",
       "      <td>0</td>\n",
       "      <td>0</td>\n",
       "      <td>1</td>\n",
       "      <td>BTC    bitcoins Current Price    h      h     ...</td>\n",
       "      <td>1083513813746442240</td>\n",
       "      <td>0.450000</td>\n",
       "      <td>0.250000</td>\n",
       "      <td>0.0000</td>\n",
       "    </tr>\n",
       "    <tr>\n",
       "      <th>1</th>\n",
       "      <td>2019-01-10 23:59:57</td>\n",
       "      <td>sajmathieu</td>\n",
       "      <td>1</td>\n",
       "      <td>0</td>\n",
       "      <td>1</td>\n",
       "      <td>Funny that you say BIP had broad support yet m...</td>\n",
       "      <td>1083513809136951297</td>\n",
       "      <td>0.315278</td>\n",
       "      <td>-0.090278</td>\n",
       "      <td>0.7490</td>\n",
       "    </tr>\n",
       "    <tr>\n",
       "      <th>2</th>\n",
       "      <td>2019-01-10 23:59:57</td>\n",
       "      <td>Libreinfo</td>\n",
       "      <td>0</td>\n",
       "      <td>0</td>\n",
       "      <td>0</td>\n",
       "      <td>Price Watch Currency Sinks as New Year Hope S...</td>\n",
       "      <td>1083513807383584769</td>\n",
       "      <td>0.454545</td>\n",
       "      <td>0.136364</td>\n",
       "      <td>0.4404</td>\n",
       "    </tr>\n",
       "    <tr>\n",
       "      <th>3</th>\n",
       "      <td>2019-01-10 23:59:54</td>\n",
       "      <td>CoinSpotterEU</td>\n",
       "      <td>0</td>\n",
       "      <td>0</td>\n",
       "      <td>0</td>\n",
       "      <td>Crypto Visionary Nick Szabo Says Banks May Scr...</td>\n",
       "      <td>1083513795027308544</td>\n",
       "      <td>0.000000</td>\n",
       "      <td>0.000000</td>\n",
       "      <td>0.5267</td>\n",
       "    </tr>\n",
       "    <tr>\n",
       "      <th>4</th>\n",
       "      <td>2019-01-10 23:59:53</td>\n",
       "      <td>profits_bitcoin</td>\n",
       "      <td>0</td>\n",
       "      <td>1</td>\n",
       "      <td>1</td>\n",
       "      <td>BTC Bitcoin Magazine Research Firm Charts Unsp...</td>\n",
       "      <td>1083513790648512513</td>\n",
       "      <td>0.400000</td>\n",
       "      <td>-0.200000</td>\n",
       "      <td>0.0000</td>\n",
       "    </tr>\n",
       "    <tr>\n",
       "      <th>5</th>\n",
       "      <td>2019-01-10 23:59:51</td>\n",
       "      <td>CoinSpotterEU</td>\n",
       "      <td>0</td>\n",
       "      <td>0</td>\n",
       "      <td>0</td>\n",
       "      <td>Swiss Stock Exchange Bringing Crypto to the Ce...</td>\n",
       "      <td>1083513785103585280</td>\n",
       "      <td>0.050000</td>\n",
       "      <td>-0.050000</td>\n",
       "      <td>0.0000</td>\n",
       "    </tr>\n",
       "    <tr>\n",
       "      <th>6</th>\n",
       "      <td>2019-01-10 23:59:50</td>\n",
       "      <td>CoinSpotterEU</td>\n",
       "      <td>0</td>\n",
       "      <td>0</td>\n",
       "      <td>0</td>\n",
       "      <td>January Cryptocurrency Predictions Report Bitc...</td>\n",
       "      <td>1083513780019945472</td>\n",
       "      <td>0.250000</td>\n",
       "      <td>0.250000</td>\n",
       "      <td>0.0000</td>\n",
       "    </tr>\n",
       "    <tr>\n",
       "      <th>7</th>\n",
       "      <td>2019-01-10 23:59:44</td>\n",
       "      <td>jpthor__</td>\n",
       "      <td>9</td>\n",
       "      <td>10</td>\n",
       "      <td>46</td>\n",
       "      <td>Synced a new bitcoin node on gbgb SSDCore VM S...</td>\n",
       "      <td>1083513754627657728</td>\n",
       "      <td>0.612626</td>\n",
       "      <td>-0.171212</td>\n",
       "      <td>-0.4939</td>\n",
       "    </tr>\n",
       "    <tr>\n",
       "      <th>8</th>\n",
       "      <td>2019-01-10 23:59:40</td>\n",
       "      <td>CoinSpotterEU</td>\n",
       "      <td>0</td>\n",
       "      <td>0</td>\n",
       "      <td>0</td>\n",
       "      <td>Bitwise Files Bitcoin ETF With SEC Another ETF...</td>\n",
       "      <td>1083513737426976768</td>\n",
       "      <td>0.600000</td>\n",
       "      <td>-0.100000</td>\n",
       "      <td>0.5106</td>\n",
       "    </tr>\n",
       "    <tr>\n",
       "      <th>9</th>\n",
       "      <td>2019-01-10 23:59:36</td>\n",
       "      <td>bitlyfool</td>\n",
       "      <td>0</td>\n",
       "      <td>0</td>\n",
       "      <td>0</td>\n",
       "      <td>Bitcoin Plunges Amidst Overall Crypto Market D...</td>\n",
       "      <td>1083513720922267648</td>\n",
       "      <td>0.000000</td>\n",
       "      <td>0.000000</td>\n",
       "      <td>0.0000</td>\n",
       "    </tr>\n",
       "  </tbody>\n",
       "</table>\n",
       "</div>"
      ],
      "text/plain": [
       "                  date         username replies retweets favorites  \\\n",
       "0  2019-01-10 23:59:58  CryptoPressNews       0        0         1   \n",
       "1  2019-01-10 23:59:57       sajmathieu       1        0         1   \n",
       "2  2019-01-10 23:59:57        Libreinfo       0        0         0   \n",
       "3  2019-01-10 23:59:54    CoinSpotterEU       0        0         0   \n",
       "4  2019-01-10 23:59:53  profits_bitcoin       0        1         1   \n",
       "5  2019-01-10 23:59:51    CoinSpotterEU       0        0         0   \n",
       "6  2019-01-10 23:59:50    CoinSpotterEU       0        0         0   \n",
       "7  2019-01-10 23:59:44         jpthor__       9       10        46   \n",
       "8  2019-01-10 23:59:40    CoinSpotterEU       0        0         0   \n",
       "9  2019-01-10 23:59:36        bitlyfool       0        0         0   \n",
       "\n",
       "                                                text                   id  \\\n",
       "0  BTC    bitcoins Current Price    h      h     ...  1083513813746442240   \n",
       "1  Funny that you say BIP had broad support yet m...  1083513809136951297   \n",
       "2   Price Watch Currency Sinks as New Year Hope S...  1083513807383584769   \n",
       "3  Crypto Visionary Nick Szabo Says Banks May Scr...  1083513795027308544   \n",
       "4  BTC Bitcoin Magazine Research Firm Charts Unsp...  1083513790648512513   \n",
       "5  Swiss Stock Exchange Bringing Crypto to the Ce...  1083513785103585280   \n",
       "6  January Cryptocurrency Predictions Report Bitc...  1083513780019945472   \n",
       "7  Synced a new bitcoin node on gbgb SSDCore VM S...  1083513754627657728   \n",
       "8  Bitwise Files Bitcoin ETF With SEC Another ETF...  1083513737426976768   \n",
       "9  Bitcoin Plunges Amidst Overall Crypto Market D...  1083513720922267648   \n",
       "\n",
       "   subjectivity  blob_sent  vader_sent  \n",
       "0      0.450000   0.250000      0.0000  \n",
       "1      0.315278  -0.090278      0.7490  \n",
       "2      0.454545   0.136364      0.4404  \n",
       "3      0.000000   0.000000      0.5267  \n",
       "4      0.400000  -0.200000      0.0000  \n",
       "5      0.050000  -0.050000      0.0000  \n",
       "6      0.250000   0.250000      0.0000  \n",
       "7      0.612626  -0.171212     -0.4939  \n",
       "8      0.600000  -0.100000      0.5106  \n",
       "9      0.000000   0.000000      0.0000  "
      ]
     },
     "execution_count": 10,
     "metadata": {},
     "output_type": "execute_result"
    }
   ],
   "source": [
    "data[\"vader_sent\"] = df.progress_apply(lambda x:vader(x[\"text\"]),axis=1)\n",
    "data.head(10)"
   ]
  },
  {
   "cell_type": "code",
   "execution_count": 11,
   "metadata": {},
   "outputs": [],
   "source": [
    "adwords = [\"give\",\"referral\",\"referal\",\"bonus\",\"signup\",\"invite\",\"freebitcoin\",\"lucky\",\n",
    "          \"lottery\",\"giveaway\",\"coupon\",\"prizes\",\"enter\",\"airdrop\",\"game\",\"contest\",\"bonuses\"]\n",
    "def contains_word(s, w):\n",
    "    return (' ' + w + ' ') in (' ' + s + ' ')\n",
    "def adchecker(text):\n",
    "    words = []\n",
    "    count = 0\n",
    "    for i in adwords:\n",
    "        if (contains_word(text,i)):\n",
    "            count+= 1\n",
    "            words.append(i)\n",
    "    return count\n",
    "def adword(text):\n",
    "    words = []\n",
    "    count = 0\n",
    "    for i in adwords:\n",
    "        if (contains_word(text,i)):\n",
    "            count+= 1\n",
    "            words.append(i)\n",
    "    return words"
   ]
  },
  {
   "cell_type": "code",
   "execution_count": 12,
   "metadata": {},
   "outputs": [
    {
     "name": "stderr",
     "output_type": "stream",
     "text": [
      "100%|██████████| 579512/579512 [00:10<00:00, 53878.28it/s]\n",
      "100%|██████████| 579512/579512 [00:11<00:00, 52642.97it/s]\n"
     ]
    }
   ],
   "source": [
    "data[\"ad_count\"] = np.zeros((data.shape[0],1))\n",
    "data[\"adwords\"] = np.zeros((data.shape[0],1))\n",
    "\n",
    "data[\"ad_count\"] = df.progress_apply(lambda x:adchecker(x[\"text\"]),axis=1)\n",
    "data[\"adwords\"] = df.progress_apply(lambda x:adword(x[\"text\"]),axis=1)\n",
    "\n",
    "data.to_csv(\"clean100.csv\")\n"
   ]
  },
  {
   "cell_type": "code",
   "execution_count": null,
   "metadata": {},
   "outputs": [],
   "source": []
  }
 ],
 "metadata": {
  "kernelspec": {
   "display_name": "Python 3",
   "language": "python",
   "name": "python3"
  },
  "language_info": {
   "codemirror_mode": {
    "name": "ipython",
    "version": 3
   },
   "file_extension": ".py",
   "mimetype": "text/x-python",
   "name": "python",
   "nbconvert_exporter": "python",
   "pygments_lexer": "ipython3",
   "version": "3.6.8"
  }
 },
 "nbformat": 4,
 "nbformat_minor": 2
}
